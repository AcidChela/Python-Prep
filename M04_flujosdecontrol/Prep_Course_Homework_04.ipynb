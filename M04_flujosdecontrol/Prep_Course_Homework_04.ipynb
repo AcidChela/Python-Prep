{
 "cells": [
  {
   "attachments": {},
   "cell_type": "markdown",
   "metadata": {},
   "source": [
    "## Flujos de Control"
   ]
  },
  {
   "attachments": {},
   "cell_type": "markdown",
   "metadata": {},
   "source": [
    "1) Crear una variable que contenga un elemento del conjunto de números enteros y luego imprimir por pantalla si es mayor o menor a cero"
   ]
  },
  {
   "cell_type": "code",
   "execution_count": 5,
   "metadata": {},
   "outputs": [
    {
     "name": "stdout",
     "output_type": "stream",
     "text": [
      "es mayor a cero)\n"
     ]
    }
   ],
   "source": [
    "a=10\n",
    "if (a>0):\n",
    "    print(\"es mayor a cero)\")\n",
    "elif (a<0):\n",
    "    print(\"es menor a cero)\")\n",
    "else:\n",
    "    print(\"es igual a cero\")"
   ]
  },
  {
   "attachments": {},
   "cell_type": "markdown",
   "metadata": {},
   "source": [
    "2) Crear dos variables y un condicional que informe si son del mismo tipo de dato"
   ]
  },
  {
   "cell_type": "code",
   "execution_count": 10,
   "metadata": {},
   "outputs": [
    {
     "name": "stdout",
     "output_type": "stream",
     "text": [
      "no son el mismo tipo\n"
     ]
    }
   ],
   "source": [
    "var1=\"gato\"\n",
    "var2=5\n",
    "if (type(var1)==type(var2)):\n",
    "     print(\"son mismo tipo de dato\")\n",
    "else:\n",
    "    print(\"no son el mismo tipo\")\n",
    "          "
   ]
  },
  {
   "attachments": {},
   "cell_type": "markdown",
   "metadata": {},
   "source": [
    "3) Para los valores enteros del 1 al 20, imprimir por pantalla si es par o impar"
   ]
  },
  {
   "cell_type": "code",
   "execution_count": 31,
   "metadata": {},
   "outputs": [
    {
     "name": "stdout",
     "output_type": "stream",
     "text": [
      "1 numero impar\n",
      "2 numero par\n",
      "3 numero impar\n",
      "4 numero par\n",
      "5 numero impar\n",
      "6 numero par\n",
      "7 numero impar\n",
      "8 numero par\n",
      "9 numero impar\n",
      "10 numero par\n",
      "11 numero impar\n",
      "12 numero par\n",
      "13 numero impar\n",
      "14 numero par\n",
      "15 numero impar\n",
      "16 numero par\n",
      "17 numero impar\n",
      "18 numero par\n",
      "19 numero impar\n",
      "20 numero par\n"
     ]
    }
   ],
   "source": [
    "for n in range(1,21):\n",
    "    a=n%2\n",
    "    if a==0:\n",
    "        print(n,\"numero par\")\n",
    "    else:\n",
    "        print(n, \"numero impar\")\n"
   ]
  },
  {
   "attachments": {},
   "cell_type": "markdown",
   "metadata": {},
   "source": [
    "4) En un ciclo for mostrar para los valores entre 0 y 5 el resultado de elevarlo a la potencia igual a 3"
   ]
  },
  {
   "cell_type": "code",
   "execution_count": 46,
   "metadata": {},
   "outputs": [
    {
     "name": "stdout",
     "output_type": "stream",
     "text": [
      "0\n",
      "1\n",
      "8\n",
      "27\n",
      "64\n",
      "125\n"
     ]
    }
   ],
   "source": [
    "\n",
    "numero=[0,1,2,3,4,5]\n",
    "for num in numero:\n",
    "       print(num**3)\n",
    "\n"
   ]
  },
  {
   "attachments": {},
   "cell_type": "markdown",
   "metadata": {},
   "source": [
    "5) Crear una variable que contenga un número entero y realizar un ciclo for la misma cantidad de ciclos"
   ]
  },
  {
   "cell_type": "code",
   "execution_count": 50,
   "metadata": {},
   "outputs": [
    {
     "name": "stdout",
     "output_type": "stream",
     "text": [
      "0\n",
      "1\n",
      "2\n"
     ]
    }
   ],
   "source": [
    "ciclo=3\n",
    "for v in range(0,ciclo):\n",
    "    print(v)"
   ]
  },
  {
   "attachments": {},
   "cell_type": "markdown",
   "metadata": {},
   "source": [
    "6) Utilizar un ciclo while para realizar el factorial de un número guardado en una variable, sólo si la variable contiene un número entero mayor a 0"
   ]
  },
  {
   "cell_type": "code",
   "execution_count": 109,
   "metadata": {},
   "outputs": [
    {
     "name": "stdout",
     "output_type": "stream",
     "text": [
      "24\n"
     ]
    }
   ],
   "source": [
    "numero=4\n",
    "value=1\n",
    "a=0\n",
    "if type(numero)==int:\n",
    "   if (numero>0):\n",
    "        for a in range(1,numero+1):\n",
    "            value=value*a\n",
    "        print(value)\n",
    "   else:\n",
    "        print(\"numero neg\")\n",
    "else:\n",
    "    print (\"el numero no es entero\")"
   ]
  },
  {
   "attachments": {},
   "cell_type": "markdown",
   "metadata": {},
   "source": [
    "7) Crear un ciclo for dentro de un ciclo while"
   ]
  },
  {
   "cell_type": "code",
   "execution_count": 136,
   "metadata": {},
   "outputs": [
    {
     "name": "stdout",
     "output_type": "stream",
     "text": [
      "0 1\n",
      "0 2\n",
      "1 1\n",
      "1 2\n",
      "2 1\n",
      "2 2\n",
      "3 1\n",
      "3 2\n",
      "4 1\n",
      "4 2\n"
     ]
    }
   ],
   "source": [
    "x=0\n",
    "a=0\n",
    "while x<5:\n",
    "    for a in range(1,3):\n",
    "        print (x,a)\n",
    "    x=x+1\n",
    "    "
   ]
  },
  {
   "attachments": {},
   "cell_type": "markdown",
   "metadata": {},
   "source": [
    "8) Crear un ciclo while dentro de un ciclo for"
   ]
  },
  {
   "cell_type": "code",
   "execution_count": 133,
   "metadata": {},
   "outputs": [
    {
     "name": "stdout",
     "output_type": "stream",
     "text": [
      "1 0\n",
      "1 1\n",
      "1 2\n",
      "1 3\n",
      "2 3\n",
      "3 3\n",
      "4 3\n",
      "5 3\n"
     ]
    }
   ],
   "source": [
    "a=0\n",
    "b=0\n",
    "for a in range (1,6):\n",
    "    while b<3:\n",
    "        print(a,b)\n",
    "        b=b+1\n",
    "    print(a,b)\n",
    "    \n"
   ]
  },
  {
   "attachments": {},
   "cell_type": "markdown",
   "metadata": {},
   "source": [
    "9) Imprimir los números primos existentes entre 0 y 30"
   ]
  },
  {
   "cell_type": "code",
   "execution_count": 284,
   "metadata": {},
   "outputs": [
    {
     "name": "stdout",
     "output_type": "stream",
     "text": [
      "0\n",
      "1\n",
      "2\n",
      "3\n",
      "5\n",
      "7\n",
      "11\n",
      "13\n",
      "17\n",
      "19\n",
      "23\n",
      "29\n",
      "cantidad de bucles= 46\n"
     ]
    }
   ],
   "source": [
    "bucles=0\n",
    "tope_rango=30\n",
    "n = 0\n",
    "primo = True\n",
    "while (n < tope_rango):\n",
    "    for div in range(2, n):\n",
    "        if (n % div == 0):\n",
    "            bucles=bucles+1\n",
    "            primo = False\n",
    "    if (primo):\n",
    "        print(n)\n",
    "    else:\n",
    "        primo = True\n",
    "    n += 1\n",
    "print(\"cantidad de bucles=\", bucles)"
   ]
  },
  {
   "attachments": {},
   "cell_type": "markdown",
   "metadata": {},
   "source": [
    "10) ¿Se puede mejorar el proceso del punto 9? Utilizar las sentencias break y/ó continue para tal fin"
   ]
  },
  {
   "cell_type": "code",
   "execution_count": 285,
   "metadata": {},
   "outputs": [
    {
     "name": "stdout",
     "output_type": "stream",
     "text": [
      "0\n",
      "1\n",
      "2\n",
      "3\n",
      "5\n",
      "7\n",
      "11\n",
      "13\n",
      "17\n",
      "19\n",
      "23\n",
      "29\n",
      "cantidad de bucles= 18\n"
     ]
    }
   ],
   "source": [
    "bucles=0\n",
    "tope_rango=30\n",
    "n = 0\n",
    "primo = True\n",
    "while (n < tope_rango):\n",
    "    for div in range(2, n):\n",
    "        if (n % div == 0):\n",
    "            primo = False\n",
    "            bucles=bucles+1\n",
    "            break #este break limita a que cuando ya encuentra un multiplo corta el for\n",
    "    if (primo):\n",
    "        print(n)\n",
    "    else:\n",
    "        primo = True\n",
    "    n += 1\n",
    "print(\"cantidad de bucles=\", bucles)"
   ]
  },
  {
   "attachments": {},
   "cell_type": "markdown",
   "metadata": {},
   "source": [
    "11) En los puntos 9 y 10, se diseño un código que encuentra números primos y además se lo optimizó. ¿Es posible saber en qué medida se optimizó?"
   ]
  },
  {
   "cell_type": "code",
   "execution_count": 281,
   "metadata": {},
   "outputs": [],
   "source": [
    "#en que no es necesario seguir buscando multiplos cuando ya se encontro el primero, son 46vs 18 bucles\n",
    "\n",
    "\n",
    "\n"
   ]
  },
  {
   "attachments": {},
   "cell_type": "markdown",
   "metadata": {},
   "source": [
    "12) Aplicando continue, armar un ciclo while que solo imprima los valores divisibles por 12, dentro del rango de números de 100 a 300"
   ]
  },
  {
   "cell_type": "code",
   "execution_count": 280,
   "metadata": {},
   "outputs": [
    {
     "name": "stdout",
     "output_type": "stream",
     "text": [
      "108  es divisible por 12\n",
      "120  es divisible por 12\n",
      "132  es divisible por 12\n",
      "144  es divisible por 12\n",
      "156  es divisible por 12\n",
      "168  es divisible por 12\n",
      "180  es divisible por 12\n",
      "192  es divisible por 12\n",
      "204  es divisible por 12\n",
      "216  es divisible por 12\n",
      "228  es divisible por 12\n",
      "240  es divisible por 12\n",
      "252  es divisible por 12\n",
      "264  es divisible por 12\n",
      "276  es divisible por 12\n",
      "288  es divisible por 12\n",
      "300  es divisible por 12\n"
     ]
    }
   ],
   "source": [
    "\n",
    "n = 99\n",
    "while(n <= 300):\n",
    "    n += 1\n",
    "    if (n % 12 != 0):\n",
    "        continue\n",
    "    print(n, ' es divisible por 12')\n",
    "\n",
    "\n"
   ]
  },
  {
   "attachments": {},
   "cell_type": "markdown",
   "metadata": {},
   "source": [
    "13) Utilizar la función **input()** que permite hacer ingresos por teclado, para encontrar números primos y dar la opción al usario de buscar el siguiente"
   ]
  },
  {
   "cell_type": "code",
   "execution_count": 333,
   "metadata": {},
   "outputs": [
    {
     "name": "stdout",
     "output_type": "stream",
     "text": [
      "escriba el numero para saber si es primo\n",
      "51\n",
      "51 no es primo\n",
      "desea buscar otro numero?s/n\n",
      "s\n",
      "escriba el numero para saber si es primo\n",
      "12\n",
      "12 no es primo\n",
      "desea buscar otro numero?s/n\n",
      "n\n"
     ]
    }
   ],
   "source": [
    "numero=0\n",
    "resp=\"s\"\n",
    "primo=True\n",
    "while (resp==\"s\"):\n",
    "    print (\"escriba el numero para saber si es primo\")\n",
    "    numero=int(input())\n",
    "    print(numero)\n",
    "    for div in range(2,numero):\n",
    "        if (numero % div == 0):\n",
    "            print(numero, \"no es primo\")\n",
    "            primo = False\n",
    "            break\n",
    "    if(primo):\n",
    "            print(numero, \"es primo\")\n",
    "    else:\n",
    "        primo=True\n",
    "    print(\"desea buscar otro numero?s/n\")\n",
    "    resp=input()\n",
    "    print(resp)"
   ]
  },
  {
   "attachments": {},
   "cell_type": "markdown",
   "metadata": {},
   "source": [
    "14) Crear un ciclo while que encuentre dentro del rango de 100 a 300 el primer número divisible por 3 y además múltiplo de 6"
   ]
  },
  {
   "cell_type": "code",
   "execution_count": 340,
   "metadata": {},
   "outputs": [
    {
     "name": "stdout",
     "output_type": "stream",
     "text": [
      "el prirmer numero es 102\n"
     ]
    }
   ],
   "source": [
    "num=100\n",
    "rangomax=300\n",
    "while (num < 300):\n",
    "    if (num%3==0) and (num%6==0):\n",
    "        print(\"el prirmer numero es\", num)\n",
    "        break\n",
    "    else:\n",
    "        num=num+1\n",
    "\n",
    "\n"
   ]
  }
 ],
 "metadata": {
  "interpreter": {
   "hash": "c85384e4cb51c8b72350f3a8712cc8351fdc3955e32a27f9b60c6242ab125f01"
  },
  "kernelspec": {
   "display_name": "Python 3 (ipykernel)",
   "language": "python",
   "name": "python3"
  },
  "language_info": {
   "codemirror_mode": {
    "name": "ipython",
    "version": 3
   },
   "file_extension": ".py",
   "mimetype": "text/x-python",
   "name": "python",
   "nbconvert_exporter": "python",
   "pygments_lexer": "ipython3",
   "version": "3.10.6"
  }
 },
 "nbformat": 4,
 "nbformat_minor": 4
}
